{
  "nbformat": 4,
  "nbformat_minor": 0,
  "metadata": {
    "colab": {
      "provenance": [],
      "authorship_tag": "ABX9TyM8u2QPdMPiYGKnAX7m34z2",
      "include_colab_link": true
    },
    "kernelspec": {
      "name": "python3",
      "display_name": "Python 3"
    },
    "language_info": {
      "name": "python"
    }
  },
  "cells": [
    {
      "cell_type": "markdown",
      "metadata": {
        "id": "view-in-github",
        "colab_type": "text"
      },
      "source": [
        "<a href=\"https://colab.research.google.com/github/Mrudhula1/ICP_3/blob/main/Assignment_3.ipynb\" target=\"_parent\"><img src=\"https://colab.research.google.com/assets/colab-badge.svg\" alt=\"Open In Colab\"/></a>"
      ]
    },
    {
      "cell_type": "markdown",
      "source": [
        "Problem - 1\n"
      ],
      "metadata": {
        "id": "eNAQ6PJFuyGO"
      }
    },
    {
      "cell_type": "code",
      "source": [
        "class Employee:\n",
        "    num_Of_Employees = 0\n",
        "\n",
        "    def __init__(self, name, family, salary, department):\n",
        "        self.name = name\n",
        "        self.family = family\n",
        "        self.salary = salary\n",
        "        self.department = department\n",
        "        Employee.num_Of_Employees+=1\n",
        "\n",
        "\n",
        "def avg_salary(employee):\n",
        "    total = sum(e.salary for e in employee)\n",
        "    average = total / len(employee)\n",
        "    return average\n",
        "\n",
        "class FulltimeEmployee(Employee):\n",
        "    def __init__(self, name, family, salary, department):\n",
        "        Employee.__init__(self,name, family, salary, department)\n",
        "\n",
        "print(\"Employee 1: \")\n",
        "employee1 = Employee(input(\"Enter name: \"),input(\"Family Members: \"),int(input(\"Employee Salary: \")),input(\"Employee Department: \"))\n",
        "print(\"Employee 2: \")\n",
        "employee2 = Employee(input(\"Enter name: \"),input(\"Family Members: \"),int(input(\"Employee Salary: \")),input(\"Employee Department: \"))\n",
        "print(\"Full Time Employee 1: \")\n",
        "employee3 = FulltimeEmployee(input(\"Enter name: \"),input(\"Family Members: \"),int(input(\"Employee Salary: \")),input(\"Employee Department: \"))\n",
        "print(\"\")\n",
        "print(\"Number of employees: \",Employee.num_Of_Employees)\n",
        "list_of_Employees = [employee1, employee2]\n",
        "average_salary = avg_salary(listofEmployees)\n",
        "print(\"Avg salary is :\", average_salary)\n",
        "\n",
        "\n"
      ],
      "metadata": {
        "colab": {
          "base_uri": "https://localhost:8080/"
        },
        "id": "66kyKllSu4_x",
        "outputId": "5e3d8409-15da-416c-c76c-b3ad66aacccd"
      },
      "execution_count": 5,
      "outputs": [
        {
          "output_type": "stream",
          "name": "stdout",
          "text": [
            "Employee 1: \n",
            "Enter name: Mrudhula\n",
            "Family Members: soumith\n",
            "Employee Salary: 3000\n",
            "Employee Department: development\n",
            "Employee 2: \n",
            "Enter name: meghana\n",
            "Family Members: srikar\n",
            "Employee Salary: 4000\n",
            "Employee Department: devops\n",
            "Full Time Employee 1: \n",
            "Enter name: srikar\n",
            "Family Members: meghana\n",
            "Employee Salary: 5000\n",
            "Employee Department: development\n",
            "\n",
            "Number of employees:  3\n",
            "Avg salary is : 4750.0\n"
          ]
        }
      ]
    },
    {
      "cell_type": "markdown",
      "source": [
        "Problem - 2\n"
      ],
      "metadata": {
        "id": "N7SDsDyQ2Cls"
      }
    },
    {
      "cell_type": "code",
      "source": [
        "import numpy\n",
        "\n",
        "ran_vec = numpy.random.uniform(1, 20, 20)\n",
        "print(ran_vec)\n",
        "print(\"\")\n",
        "print(\"\")\n",
        "reshaped_arr = ran_vec.reshape(4, 5)\n",
        "print(\"\")\n",
        "print(\"\")\n",
        "print(reshaped_arr)\n",
        "reshaped_arr[numpy.arange(4), numpy.argmax(reshaped_arr, axis=1)] = 0\n",
        "print(\"\")\n",
        "print(\"\")\n",
        "print(reshaped_arr)"
      ],
      "metadata": {
        "colab": {
          "base_uri": "https://localhost:8080/"
        },
        "id": "436dl7TW2FoZ",
        "outputId": "1700c90b-c510-4890-b87a-1f6116f35216"
      },
      "execution_count": 6,
      "outputs": [
        {
          "output_type": "stream",
          "name": "stdout",
          "text": [
            "[ 2.91816038  2.65496856  8.89675818 19.07694936 15.62863403 16.49238676\n",
            " 13.16196185  3.58886645  1.6807913  13.82595764  5.73908893 10.73728414\n",
            " 19.55660948 13.36102511 19.27794566 12.83885982 19.30659768 14.52836927\n",
            " 10.40373727  9.66765826]\n",
            "\n",
            "\n",
            "\n",
            "\n",
            "[[ 2.91816038  2.65496856  8.89675818 19.07694936 15.62863403]\n",
            " [16.49238676 13.16196185  3.58886645  1.6807913  13.82595764]\n",
            " [ 5.73908893 10.73728414 19.55660948 13.36102511 19.27794566]\n",
            " [12.83885982 19.30659768 14.52836927 10.40373727  9.66765826]]\n",
            "\n",
            "\n",
            "[[ 2.91816038  2.65496856  8.89675818  0.         15.62863403]\n",
            " [ 0.         13.16196185  3.58886645  1.6807913  13.82595764]\n",
            " [ 5.73908893 10.73728414  0.         13.36102511 19.27794566]\n",
            " [12.83885982  0.         14.52836927 10.40373727  9.66765826]]\n"
          ]
        }
      ]
    }
  ]
}